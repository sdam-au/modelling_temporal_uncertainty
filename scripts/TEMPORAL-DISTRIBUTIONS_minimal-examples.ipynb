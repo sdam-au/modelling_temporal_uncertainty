{
  "nbformat": 4,
  "nbformat_minor": 0,
  "metadata": {
    "colab": {
      "name": "TEMPORAL-DISTRIBUTIONS_minimal-examples.ipynb",
      "provenance": [],
      "collapsed_sections": [],
      "authorship_tag": "ABX9TyPg26sXuKm7HDEtmE1mv8Fk",
      "include_colab_link": true
    },
    "kernelspec": {
      "name": "python3",
      "display_name": "Python 3"
    }
  },
  "cells": [
    {
      "cell_type": "markdown",
      "metadata": {
        "id": "view-in-github",
        "colab_type": "text"
      },
      "source": [
        "<a href=\"https://colab.research.google.com/github/sdam-au/modelling_temporal_uncertainty/blob/master/scripts/TEMPORAL-DISTRIBUTIONS_minimal-examples.ipynb\" target=\"_parent\"><img src=\"https://colab.research.google.com/assets/colab-badge.svg\" alt=\"Open In Colab\"/></a>"
      ]
    },
    {
      "cell_type": "markdown",
      "metadata": {
        "id": "BJhMiSohRmrt",
        "colab_type": "text"
      },
      "source": [
        "# Modelling ranges\n",
        "\n",
        "## Trapezoidal distribution\n"
      ]
    },
    {
      "cell_type": "markdown",
      "metadata": {
        "id": "uGGk6R_xCyj9",
        "colab_type": "text"
      },
      "source": [
        "As a minimal example, let's assume that we have datation \"4th c. BC\".\n",
        "As a first step, we have to operationalize its start and stop points:"
      ]
    },
    {
      "cell_type": "code",
      "metadata": {
        "id": "1PsqsfVVCXRQ",
        "colab_type": "code",
        "colab": {}
      },
      "source": [
        "start = -400\n",
        "stop = -301"
      ],
      "execution_count": 0,
      "outputs": []
    },
    {
      "cell_type": "markdown",
      "metadata": {
        "id": "GGT7L1XlDXMA",
        "colab_type": "text"
      },
      "source": [
        " Further,  I assume that the the probability that the object emerged in 385 BC, 350 BC or 320 BC is **approximately equal** . \n",
        "At the same time, it is **less likely** that the  object emerged in the first or last decade of the century, since this would be probably coded in another way (e.g. \"beginning of the 4th c. BC\" etc.).\n",
        "\n",
        "It seems that the best way how to model this is through a [trapezoidal distrubution](https://en.wikipedia.org/wiki/Trapezoidal_distribution).\n",
        "\n",
        "In Python, trapezoidal distribution is implemented in SciPy library as [scipy.stats.trapz](https://docs.scipy.org/doc/scipy/reference/generated/scipy.stats.trapz.html). \n"
      ]
    },
    {
      "cell_type": "code",
      "metadata": {
        "id": "TAQ5j9-3DD9j",
        "colab_type": "code",
        "colab": {}
      },
      "source": [
        "from scipy.stats import trapz\n",
        "import matplotlib.pyplot as plt\n",
        "import seaborn as sns"
      ],
      "execution_count": 0,
      "outputs": []
    },
    {
      "cell_type": "markdown",
      "metadata": {
        "id": "E4adVFBzPGsA",
        "colab_type": "text"
      },
      "source": [
        "We will use this function as a core for our function optimized for working with date ranges"
      ]
    },
    {
      "cell_type": "code",
      "metadata": {
        "id": "wnj2hUeAFjjs",
        "colab_type": "code",
        "colab": {}
      },
      "source": [
        "def dist_range(start, stop, size=1, bending_point_b=0.1):\n",
        "  \"\"\"\n",
        "  get random numbers of size size ib on the basis of start date and end date and trapezoid distribution defined by first turn point (lower bound)\n",
        "  \"\"\"\n",
        "  r = trapz.rvs(bending_point_b, 1-bending_point_b, size=size)\n",
        "  duration = abs(start-stop)\n",
        "  return ((r * duration) + start).astype(int)"
      ],
      "execution_count": 0,
      "outputs": []
    },
    {
      "cell_type": "markdown",
      "metadata": {
        "id": "Hss_-MdhPWPJ",
        "colab_type": "text"
      },
      "source": [
        "If we specify only start and end, it returns only one random number within the range. By default, the two bending points are configured to 0.1 and 0.9  of the duration of the function."
      ]
    },
    {
      "cell_type": "code",
      "metadata": {
        "id": "35tMIsikLtKe",
        "colab_type": "code",
        "outputId": "2586e595-7720-49fd-b5f1-bf194270f426",
        "colab": {
          "base_uri": "https://localhost:8080/",
          "height": 34
        }
      },
      "source": [
        "dist_range(101, 200) # * 100) + 100"
      ],
      "execution_count": 15,
      "outputs": [
        {
          "output_type": "execute_result",
          "data": {
            "text/plain": [
              "array([148])"
            ]
          },
          "metadata": {
            "tags": []
          },
          "execution_count": 15
        }
      ]
    },
    {
      "cell_type": "markdown",
      "metadata": {
        "id": "2PHEdeifQaqa",
        "colab_type": "text"
      },
      "source": [
        "This way we can produce a large amount of numbers for each date range in our dataset"
      ]
    },
    {
      "cell_type": "code",
      "metadata": {
        "id": "weP-PnAnLcJ5",
        "colab_type": "code",
        "colab": {}
      },
      "source": [
        "raw_date = \"4th c. BC\"\n",
        "start = -400\n",
        "stop = -301\n",
        "n_of_iterations = 5000\n",
        "iters = dist_range(start, stop, n_of_iterations)"
      ],
      "execution_count": 0,
      "outputs": []
    },
    {
      "cell_type": "markdown",
      "metadata": {
        "id": "tZEDqQ24RAYb",
        "colab_type": "text"
      },
      "source": [
        "For one date range, the resulting distrubution might be visualized by means of a histogram:"
      ]
    },
    {
      "cell_type": "code",
      "metadata": {
        "id": "cBEbOMruKVqW",
        "colab_type": "code",
        "outputId": "36ba6229-15fe-4a99-c738-0f2b187931bf",
        "colab": {
          "base_uri": "https://localhost:8080/",
          "height": 282
        }
      },
      "source": [
        "sns.distplot(iters, bins=20)\n",
        "plt.xlim(start, stop)"
      ],
      "execution_count": 19,
      "outputs": [
        {
          "output_type": "execute_result",
          "data": {
            "text/plain": [
              "(-400.0, -301.0)"
            ]
          },
          "metadata": {
            "tags": []
          },
          "execution_count": 19
        },
        {
          "output_type": "display_data",
          "data": {
            "image/png": "[encoded data removed]",
            "text/plain": [
              "<Figure size 432x288 with 1 Axes>"
            ]
          },
          "metadata": {
            "tags": [],
            "needs_background": "light"
          }
        }
      ]
    },
    {
      "cell_type": "markdown",
      "metadata": {
        "id": "r05hBrYISDwe",
        "colab_type": "text"
      },
      "source": [
        "# Modelling ante quem & post quem\n",
        "\n",
        "A very common way of dating in our dataset is using **ante quem** (before that date) and **post quem** (after that date).\n",
        "\n",
        "Again, here we have to ask about the shape of the distribution we want to model.\n",
        "\n",
        "## a) Trapezoidal\n",
        "One option is to approach it the same way as ranges, as a combination of uniform and triangular distribution. We can use our code for trapezoidal distrubution and just set up *a* = *b*, i.e. that the lower bound equals to the first bending point.  "
      ]
    },
    {
      "cell_type": "code",
      "metadata": {
        "id": "U_WmLRHKSLzA",
        "colab_type": "code",
        "colab": {}
      },
      "source": [
        "def dist_ante_post(date, date_type, size=1, duration=100):\n",
        "  \"\"\"\n",
        "  get random numbers of size size ib on the basis of start date and end date and trapezoid distribution defined by first turn point (lower bound)\n",
        "  \"\"\"\n",
        "  if \"post\" in date_type:\n",
        "    r = trapz.rvs(0, 0.50, size=size)\n",
        "    return ((r * duration) + date).astype(int)\n",
        "  if \"ante\" in date_type:\n",
        "    r = trapz.rvs(0.50, 1, size=size)\n",
        "    return ((r * duration) + date).astype(int)"
      ],
      "execution_count": 0,
      "outputs": []
    },
    {
      "cell_type": "markdown",
      "metadata": {
        "id": "K6ia-4GHqKWd",
        "colab_type": "text"
      },
      "source": [
        "Test with \"post 250 AD\""
      ]
    },
    {
      "cell_type": "code",
      "metadata": {
        "id": "w1_6rOf_o_jg",
        "colab_type": "code",
        "outputId": "62a1fb58-5d87-45f9-8a9e-6ec988c0a039",
        "colab": {
          "base_uri": "https://localhost:8080/",
          "height": 34
        }
      },
      "source": [
        "dist_ante_post(250, \"post\")"
      ],
      "execution_count": 22,
      "outputs": [
        {
          "output_type": "execute_result",
          "data": {
            "text/plain": [
              "array([320])"
            ]
          },
          "metadata": {
            "tags": []
          },
          "execution_count": 22
        }
      ]
    },
    {
      "cell_type": "code",
      "metadata": {
        "id": "xuPsMFFqokgP",
        "colab_type": "code",
        "colab": {}
      },
      "source": [
        "iters = dist_ante_post(250, \"post\", 5000)"
      ],
      "execution_count": 0,
      "outputs": []
    },
    {
      "cell_type": "code",
      "metadata": {
        "id": "qKTVonaeqCP5",
        "colab_type": "code",
        "outputId": "bb4d24c1-61cb-4081-ca29-7a20dca72eac",
        "colab": {
          "base_uri": "https://localhost:8080/",
          "height": 282
        }
      },
      "source": [
        "sns.distplot(iters, kde=False) # alternatively: hist=False\n",
        "plt.xlim(250, 350)"
      ],
      "execution_count": 24,
      "outputs": [
        {
          "output_type": "execute_result",
          "data": {
            "text/plain": [
              "(250.0, 350.0)"
            ]
          },
          "metadata": {
            "tags": []
          },
          "execution_count": 24
        },
        {
          "output_type": "display_data",
          "data": {
            "image/png": "[encoded data removed]",
            "text/plain": [
              "<Figure size 432x288 with 1 Axes>"
            ]
          },
          "metadata": {
            "tags": [],
            "needs_background": "light"
          }
        }
      ]
    },
    {
      "cell_type": "markdown",
      "metadata": {
        "id": "6ZxUbIL2p-UR",
        "colab_type": "text"
      },
      "source": [
        "## b) Half-normal distribution\n",
        "\n",
        "Perhaps a better model would be a normal distribution with rather long tail\n",
        "\n"
      ]
    },
    {
      "cell_type": "code",
      "metadata": {
        "id": "LvKxDrNvpeRR",
        "colab_type": "code",
        "colab": {}
      },
      "source": [
        "from scipy.stats import halfnorm"
      ],
      "execution_count": 0,
      "outputs": []
    },
    {
      "cell_type": "markdown",
      "metadata": {
        "id": "rcI4-Ayxtev2",
        "colab_type": "text"
      },
      "source": [
        "Here we can especially play with the `scale` parameter.\n",
        "\n"
      ]
    },
    {
      "cell_type": "code",
      "metadata": {
        "id": "rXs7zvuSrVVt",
        "colab_type": "code",
        "outputId": "387af385-c845-4cde-ea44-af8b9ccc2b95",
        "colab": {
          "base_uri": "https://localhost:8080/",
          "height": 265
        }
      },
      "source": [
        "for scale in [20, 50, 100]:\n",
        "  r = halfnorm.rvs(250, scale, 50000)\n",
        "  sns.distplot(r, kde=False)\n",
        "  plt.xlim(250, 450)"
      ],
      "execution_count": 28,
      "outputs": [
        {
          "output_type": "display_data",
          "data": {
            "image/png": "[encoded data removed]",
            "text/plain": [
              "<Figure size 432x288 with 1 Axes>"
            ]
          },
          "metadata": {
            "tags": [],
            "needs_background": "light"
          }
        }
      ]
    },
    {
      "cell_type": "markdown",
      "metadata": {
        "id": "XpAQjTnFt1B9",
        "colab_type": "text"
      },
      "source": [
        "`scale`=50 appears to be very useful for applications where centuries are common, like PHI or EDH. So let's implement it to our model as default value."
      ]
    },
    {
      "cell_type": "code",
      "metadata": {
        "id": "qh6xIrpprEz0",
        "colab_type": "code",
        "colab": {}
      },
      "source": [
        "def dist_ante_post(date, date_type, size=1, scale=50):\n",
        "  \"\"\"\n",
        "  get random numbers of size size ib on the basis of start date and end date and trapezoid distribution defined by first turn point (lower bound)\n",
        "  \"\"\"\n",
        "  if \"post\" in date_type:\n",
        "    r = halfnorm.rvs(date, scale, size)\n",
        "    return r.astype(int)\n",
        "  if \"ante\" in date_type:\n",
        "    r = halfnorm.rvs(scale=scale, size=size)\n",
        "    return (date - r).astype(int)"
      ],
      "execution_count": 0,
      "outputs": []
    },
    {
      "cell_type": "code",
      "metadata": {
        "id": "xgKIQiY8wux1",
        "colab_type": "code",
        "outputId": "e0fdfe17-465f-427a-bf1c-680ed8c09f28",
        "colab": {
          "base_uri": "https://localhost:8080/",
          "height": 34
        }
      },
      "source": [
        "# simple test with \"post\"\n",
        "dist_ante_post(250, \"post\", 10)"
      ],
      "execution_count": 30,
      "outputs": [
        {
          "output_type": "execute_result",
          "data": {
            "text/plain": [
              "array([308, 290, 279, 362, 294, 271, 313, 338, 285, 260])"
            ]
          },
          "metadata": {
            "tags": []
          },
          "execution_count": 30
        }
      ]
    },
    {
      "cell_type": "code",
      "metadata": {
        "id": "ITyCddkJw3yZ",
        "colab_type": "code",
        "outputId": "1f2cc57c-383b-4930-8e14-e81a9c9336d8",
        "colab": {
          "base_uri": "https://localhost:8080/",
          "height": 34
        }
      },
      "source": [
        "# simple test with \"ante\"\n",
        "dist_ante_post(250, \"ante\", 10)"
      ],
      "execution_count": 0,
      "outputs": [
        {
          "output_type": "execute_result",
          "data": {
            "text/plain": [
              "array([218, 183, 124, 230, 183, 127, 242, 173, 227, 220])"
            ]
          },
          "metadata": {
            "tags": []
          },
          "execution_count": 181
        }
      ]
    },
    {
      "cell_type": "markdown",
      "metadata": {
        "id": "1lEnQvWMxcco",
        "colab_type": "text"
      },
      "source": [
        "Now we can test fully our ante quem"
      ]
    },
    {
      "cell_type": "code",
      "metadata": {
        "id": "ERcdvB4AxDVx",
        "colab_type": "code",
        "outputId": "87788f5c-708e-4d89-a496-83f2e0dad5d8",
        "colab": {
          "base_uri": "https://localhost:8080/",
          "height": 282
        }
      },
      "source": [
        "r = dist_ante_post(250, \"ante\", 5000) \n",
        "sns.distplot(r, kde=False)\n",
        "plt.xlim(1, 250)"
      ],
      "execution_count": 31,
      "outputs": [
        {
          "output_type": "execute_result",
          "data": {
            "text/plain": [
              "(1.0, 250.0)"
            ]
          },
          "metadata": {
            "tags": []
          },
          "execution_count": 31
        },
        {
          "output_type": "display_data",
          "data": {
            "image/png": "[encoded data removed]",
            "text/plain": [
              "<Figure size 432x288 with 1 Axes>"
            ]
          },
          "metadata": {
            "tags": [],
            "needs_background": "light"
          }
        }
      ]
    },
    {
      "cell_type": "code",
      "metadata": {
        "id": "ZS_vHZOCyh5V",
        "colab_type": "code",
        "colab": {}
      },
      "source": [
        ""
      ],
      "execution_count": 0,
      "outputs": []
    }
  ]
}