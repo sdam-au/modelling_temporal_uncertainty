{
  "nbformat": 4,
  "nbformat_minor": 0,
  "metadata": {
    "colab": {
      "name": "TEMPORAL-DISTRIBUTIONS_minimal-examples.ipynb",
      "provenance": [],
      "collapsed_sections": [],
      "authorship_tag": "ABX9TyNL0YHgoNY4B2P+oOwg8cmQ",
      "include_colab_link": true
    },
    "kernelspec": {
      "name": "python3",
      "display_name": "Python 3"
    }
  },
  "cells": [
    {
      "cell_type": "markdown",
      "metadata": {
        "id": "view-in-github",
        "colab_type": "text"
      },
      "source": [
        "<a href=\"https://colab.research.google.com/github/sdam-au/modelling_temporal_uncertainty/blob/master/scripts/TEMPORAL-DISTRIBUTIONS_minimal-examples.ipynb\" target=\"_parent\"><img src=\"https://colab.research.google.com/assets/colab-badge.svg\" alt=\"Open In Colab\"/></a>"
      ]
    },
    {
      "cell_type": "markdown",
      "metadata": {
        "id": "BJhMiSohRmrt",
        "colab_type": "text"
      },
      "source": [
        "# Modelling ranges\n",
        "\n",
        "## Trapezoidal distribution\n"
      ]
    },
    {
      "cell_type": "markdown",
      "metadata": {
        "id": "uGGk6R_xCyj9",
        "colab_type": "text"
      },
      "source": [
        "As a minimal example, let's assume that we have datation \"4th c. BC\".\n",
        "As a first step, we have to operationalize its start and stop points:"
      ]
    },
    {
      "cell_type": "code",
      "metadata": {
        "id": "1PsqsfVVCXRQ",
        "colab_type": "code",
        "colab": {}
      },
      "source": [
        "start = -400\n",
        "stop = -301"
      ],
      "execution_count": 0,
      "outputs": []
    },
    {
      "cell_type": "markdown",
      "metadata": {
        "id": "GGT7L1XlDXMA",
        "colab_type": "text"
      },
      "source": [
        " Further,  I assume that the the probability that the object emerged in 385 BC, 350 BC or 320 BC is **approximately equal** . \n",
        "At the same time, it is **less likely** that the  object emerged in the first or last decade of the century, since this would be probably coded in another way (e.g. \"beginning of the 4th c. BC\" etc.).\n",
        "\n",
        "It seems that the best way how to model this is through a [trapezoidal distrubution](https://en.wikipedia.org/wiki/Trapezoidal_distribution).\n",
        "\n",
        "In Python, trapezoidal distribution is implemented in SciPy library as [scipy.stats.trapz](https://docs.scipy.org/doc/scipy/reference/generated/scipy.stats.trapz.html). \n"
      ]
    },
    {
      "cell_type": "code",
      "metadata": {
        "id": "TAQ5j9-3DD9j",
        "colab_type": "code",
        "colab": {
          "base_uri": "https://localhost:8080/",
          "height": 51
        },
        "outputId": "e44119fa-074b-4616-b113-6541ef272f57"
      },
      "source": [
        "from scipy.stats import trapz\n",
        "import matplotlib.pyplot as plt\n",
        "import seaborn as sns"
      ],
      "execution_count": 11,
      "outputs": [
        {
          "output_type": "stream",
          "text": [
            "/usr/local/lib/python3.6/dist-packages/statsmodels/tools/_testing.py:19: FutureWarning: pandas.util.testing is deprecated. Use the functions in the public API at pandas.testing instead.\n",
            "  import pandas.util.testing as tm\n"
          ],
          "name": "stderr"
        }
      ]
    },
    {
      "cell_type": "markdown",
      "metadata": {
        "id": "E4adVFBzPGsA",
        "colab_type": "text"
      },
      "source": [
        "We will use this function as a core for our function optimized for working with date ranges"
      ]
    },
    {
      "cell_type": "code",
      "metadata": {
        "id": "wnj2hUeAFjjs",
        "colab_type": "code",
        "colab": {}
      },
      "source": [
        "def dist_range(start, stop, size=1, bending_point_b=0.1):\n",
        "  \"\"\"\n",
        "  get random numbers of size size ib on the basis of start date and end date and trapezoid distribution defined by first turn point (lower bound)\n",
        "  \"\"\"\n",
        "  r = trapz.rvs(bending_point_b, 1-bending_point_b, size=size)\n",
        "  duration = abs(start-stop)\n",
        "  random_values = list(((r * duration) + start).astype(int))\n",
        "  if size == 1: # if only one number, return it as a number\n",
        "    return random_values[0]\n",
        "  else: # otherwise return a list of values\n",
        "    return random_values"
      ],
      "execution_count": 0,
      "outputs": []
    },
    {
      "cell_type": "markdown",
      "metadata": {
        "id": "Hss_-MdhPWPJ",
        "colab_type": "text"
      },
      "source": [
        "If we specify only start and end, it returns only one random number within the range. By default, the two bending points are configured to 0.1 and 0.9  of the duration of the function."
      ]
    },
    {
      "cell_type": "code",
      "metadata": {
        "id": "35tMIsikLtKe",
        "colab_type": "code",
        "outputId": "75d2267a-2dc0-48fc-d265-84b0f16802ad",
        "colab": {
          "base_uri": "https://localhost:8080/",
          "height": 34
        }
      },
      "source": [
        "dist_range(-400, -301) # * 100) + 100"
      ],
      "execution_count": 13,
      "outputs": [
        {
          "output_type": "execute_result",
          "data": {
            "text/plain": [
              "array([-320])"
            ]
          },
          "metadata": {
            "tags": []
          },
          "execution_count": 13
        }
      ]
    },
    {
      "cell_type": "markdown",
      "metadata": {
        "id": "2PHEdeifQaqa",
        "colab_type": "text"
      },
      "source": [
        "This way we can produce a large amount of numbers for each date range in our dataset"
      ]
    },
    {
      "cell_type": "code",
      "metadata": {
        "id": "weP-PnAnLcJ5",
        "colab_type": "code",
        "colab": {}
      },
      "source": [
        "raw_date = \"4th c. BC\"\n",
        "start = -400\n",
        "stop = -301\n",
        "n_of_iterations = 5000\n",
        "iters = dist_range(start, stop, n_of_iterations)"
      ],
      "execution_count": 0,
      "outputs": []
    },
    {
      "cell_type": "markdown",
      "metadata": {
        "id": "tZEDqQ24RAYb",
        "colab_type": "text"
      },
      "source": [
        "For one date range, the resulting distrubution might be visualized by means of a histogram:"
      ]
    },
    {
      "cell_type": "code",
      "metadata": {
        "id": "cBEbOMruKVqW",
        "colab_type": "code",
        "outputId": "f500a652-f817-49ec-f682-5000514b0fd6",
        "colab": {
          "base_uri": "https://localhost:8080/",
          "height": 282
        }
      },
      "source": [
        "sns.distplot(iters, bins=20)\n",
        "plt.xlim(start, stop)"
      ],
      "execution_count": 15,
      "outputs": [
        {
          "output_type": "execute_result",
          "data": {
            "text/plain": [
              "(-400.0, -301.0)"
            ]
          },
          "metadata": {
            "tags": []
          },
          "execution_count": 15
        },
        {
          "output_type": "display_data",
          "data": {
            "image/png": "[encoded data removed]",
            "text/plain": [
              "<Figure size 432x288 with 1 Axes>"
            ]
          },
          "metadata": {
            "tags": [],
            "needs_background": "light"
          }
        }
      ]
    },
    {
      "cell_type": "markdown",
      "metadata": {
        "id": "r05hBrYISDwe",
        "colab_type": "text"
      },
      "source": [
        "# Modelling ante quem & post quem\n",
        "\n",
        "A very common way of dating in our dataset is using **ante quem** (before that date) and **post quem** (after that date).\n",
        "\n",
        "Again, here we have to ask about the shape of the distribution we want to model.\n",
        "\n",
        "## a) Trapezoidal\n",
        "One option is to approach it the same way as ranges, as a combination of uniform and triangular distribution. We can use our code for trapezoidal distrubution and just set up *a* = *b*, i.e. that the lower bound equals to the first bending point.  "
      ]
    },
    {
      "cell_type": "code",
      "metadata": {
        "id": "U_WmLRHKSLzA",
        "colab_type": "code",
        "colab": {}
      },
      "source": [
        "def dist_ante_post(date, date_type, size=1, duration=100):\n",
        "  \"\"\"\n",
        "  get random numbers of size size ib on the basis of start date and end date and trapezoid distribution defined by first turn point (lower bound)\n",
        "  \"\"\"\n",
        "  if \"post\" in date_type:\n",
        "    r = trapz.rvs(0, 0.50, size=size)\n",
        "    return ((r * duration) + date).astype(int)\n",
        "  if \"ante\" in date_type:\n",
        "    r = trapz.rvs(0.50, 1, size=size)\n",
        "    return ((r * duration) + date).astype(int)"
      ],
      "execution_count": 0,
      "outputs": []
    },
    {
      "cell_type": "markdown",
      "metadata": {
        "id": "K6ia-4GHqKWd",
        "colab_type": "text"
      },
      "source": [
        "Test with \"post 250 AD\""
      ]
    },
    {
      "cell_type": "code",
      "metadata": {
        "id": "w1_6rOf_o_jg",
        "colab_type": "code",
        "outputId": "3ee7367e-2cbd-4a43-bebf-26abfab10566",
        "colab": {
          "base_uri": "https://localhost:8080/",
          "height": 34
        }
      },
      "source": [
        "dist_ante_post(250, \"post\")"
      ],
      "execution_count": 17,
      "outputs": [
        {
          "output_type": "execute_result",
          "data": {
            "text/plain": [
              "array([253])"
            ]
          },
          "metadata": {
            "tags": []
          },
          "execution_count": 17
        }
      ]
    },
    {
      "cell_type": "code",
      "metadata": {
        "id": "xuPsMFFqokgP",
        "colab_type": "code",
        "colab": {}
      },
      "source": [
        "iters = dist_ante_post(250, \"post\", 5000)"
      ],
      "execution_count": 0,
      "outputs": []
    },
    {
      "cell_type": "code",
      "metadata": {
        "id": "qKTVonaeqCP5",
        "colab_type": "code",
        "outputId": "b21a7cbb-8df6-4cc1-ff32-ae176c73441d",
        "colab": {
          "base_uri": "https://localhost:8080/",
          "height": 282
        }
      },
      "source": [
        "sns.distplot(iters, kde=False) # alternatively: hist=False\n",
        "plt.xlim(250, 350)"
      ],
      "execution_count": 19,
      "outputs": [
        {
          "output_type": "execute_result",
          "data": {
            "text/plain": [
              "(250.0, 350.0)"
            ]
          },
          "metadata": {
            "tags": []
          },
          "execution_count": 19
        },
        {
          "output_type": "display_data",
          "data": {
            "image/png": "[encoded data removed]",
            "text/plain": [
              "<Figure size 432x288 with 1 Axes>"
            ]
          },
          "metadata": {
            "tags": [],
            "needs_background": "light"
          }
        }
      ]
    },
    {
      "cell_type": "markdown",
      "metadata": {
        "id": "6ZxUbIL2p-UR",
        "colab_type": "text"
      },
      "source": [
        "## b) Half-normal distribution\n",
        "\n",
        "Perhaps a better model would be a normal distribution with rather long tail\n",
        "\n"
      ]
    },
    {
      "cell_type": "code",
      "metadata": {
        "id": "LvKxDrNvpeRR",
        "colab_type": "code",
        "colab": {}
      },
      "source": [
        "from scipy.stats import halfnorm"
      ],
      "execution_count": 0,
      "outputs": []
    },
    {
      "cell_type": "markdown",
      "metadata": {
        "id": "rcI4-Ayxtev2",
        "colab_type": "text"
      },
      "source": [
        "Here we can especially play with the `scale` parameter.\n",
        "\n"
      ]
    },
    {
      "cell_type": "code",
      "metadata": {
        "id": "rXs7zvuSrVVt",
        "colab_type": "code",
        "outputId": "54cc82ec-6928-4dea-eba3-184698105f87",
        "colab": {
          "base_uri": "https://localhost:8080/",
          "height": 265
        }
      },
      "source": [
        "for scale in [20, 50, 100]:\n",
        "  r = halfnorm.rvs(250, scale, 50000)\n",
        "  sns.distplot(r, kde=False)\n",
        "  plt.xlim(250, 450)"
      ],
      "execution_count": 21,
      "outputs": [
        {
          "output_type": "display_data",
          "data": {
            "image/png": "[encoded data removed]",
            "text/plain": [
              "<Figure size 432x288 with 1 Axes>"
            ]
          },
          "metadata": {
            "tags": [],
            "needs_background": "light"
          }
        }
      ]
    },
    {
      "cell_type": "markdown",
      "metadata": {
        "id": "XpAQjTnFt1B9",
        "colab_type": "text"
      },
      "source": [
        "`scale`=50 appears to be very useful for applications where centuries are common, like PHI or EDH. So let's implement it to our model as default value."
      ]
    },
    {
      "cell_type": "code",
      "metadata": {
        "id": "qh6xIrpprEz0",
        "colab_type": "code",
        "colab": {}
      },
      "source": [
        "def dist_ante_post(date, date_type, size=1, scale=50):\n",
        "  \"\"\"\n",
        "  get random numbers of size size ib on the basis of start date and end date and trapezoid distribution defined by first turn point (lower bound)\n",
        "  \"\"\"\n",
        "  if \"post\" in date_type:\n",
        "    r = halfnorm.rvs(date, scale, size)\n",
        "    return r.astype(int)\n",
        "  if \"ante\" in date_type:\n",
        "    r = halfnorm.rvs(scale=scale, size=size)\n",
        "    return (date - r).astype(int)"
      ],
      "execution_count": 0,
      "outputs": []
    },
    {
      "cell_type": "code",
      "metadata": {
        "id": "xgKIQiY8wux1",
        "colab_type": "code",
        "outputId": "c0004d7f-00c2-4c7a-f0aa-89b701731a22",
        "colab": {
          "base_uri": "https://localhost:8080/",
          "height": 34
        }
      },
      "source": [
        "# simple test with \"post\"\n",
        "dist_ante_post(250, \"post\", 10)"
      ],
      "execution_count": 23,
      "outputs": [
        {
          "output_type": "execute_result",
          "data": {
            "text/plain": [
              "array([299, 275, 308, 276, 291, 275, 269, 289, 281, 375])"
            ]
          },
          "metadata": {
            "tags": []
          },
          "execution_count": 23
        }
      ]
    },
    {
      "cell_type": "code",
      "metadata": {
        "id": "ITyCddkJw3yZ",
        "colab_type": "code",
        "outputId": "14a9ee73-0e86-44ea-f731-9f82d89080ac",
        "colab": {
          "base_uri": "https://localhost:8080/",
          "height": 34
        }
      },
      "source": [
        "# simple test with \"ante\"\n",
        "dist_ante_post(250, \"ante\", 10)"
      ],
      "execution_count": 24,
      "outputs": [
        {
          "output_type": "execute_result",
          "data": {
            "text/plain": [
              "array([206, 171, 228, 246, 242, 175, 202, 244, 248, 225])"
            ]
          },
          "metadata": {
            "tags": []
          },
          "execution_count": 24
        }
      ]
    },
    {
      "cell_type": "markdown",
      "metadata": {
        "id": "1lEnQvWMxcco",
        "colab_type": "text"
      },
      "source": [
        "Now we can test fully our ante quem"
      ]
    },
    {
      "cell_type": "code",
      "metadata": {
        "id": "ERcdvB4AxDVx",
        "colab_type": "code",
        "outputId": "b4baf040-75a5-41cd-eaa3-964680705258",
        "colab": {
          "base_uri": "https://localhost:8080/",
          "height": 282
        }
      },
      "source": [
        "r = dist_ante_post(250, \"ante\", 5000) \n",
        "sns.distplot(r, kde=False)\n",
        "plt.xlim(1, 250)"
      ],
      "execution_count": 25,
      "outputs": [
        {
          "output_type": "execute_result",
          "data": {
            "text/plain": [
              "(1.0, 250.0)"
            ]
          },
          "metadata": {
            "tags": []
          },
          "execution_count": 25
        },
        {
          "output_type": "display_data",
          "data": {
            "image/png": "[encoded data removed]",
            "text/plain": [
              "<Figure size 432x288 with 1 Axes>"
            ]
          },
          "metadata": {
            "tags": [],
            "needs_background": "light"
          }
        }
      ]
    },
    {
      "cell_type": "markdown",
      "metadata": {
        "id": "wvu0cBKtcMXK",
        "colab_type": "text"
      },
      "source": [
        "# Test with some dataset"
      ]
    },
    {
      "cell_type": "code",
      "metadata": {
        "id": "tF8BSs5_la3_",
        "colab_type": "code",
        "colab": {}
      },
      "source": [
        "import pandas as pd"
      ],
      "execution_count": 0,
      "outputs": []
    },
    {
      "cell_type": "code",
      "metadata": {
        "id": "ZS_vHZOCyh5V",
        "colab_type": "code",
        "colab": {
          "base_uri": "https://localhost:8080/",
          "height": 289
        },
        "outputId": "b49d26cb-0b47-4d9d-9ec5-edf0af60e69f"
      },
      "source": [
        "!pip install sddk\n",
        "import sddk"
      ],
      "execution_count": 4,
      "outputs": [
        {
          "output_type": "stream",
          "text": [
            "Requirement already satisfied: sddk in /usr/local/lib/python3.6/dist-packages (2.6)\n",
            "Requirement already satisfied: numpy in /usr/local/lib/python3.6/dist-packages (from sddk) (1.18.5)\n",
            "Requirement already satisfied: pyarrow in /usr/local/lib/python3.6/dist-packages (from sddk) (0.14.1)\n",
            "Requirement already satisfied: pandas in /usr/local/lib/python3.6/dist-packages (from sddk) (1.0.4)\n",
            "Requirement already satisfied: matplotlib in /usr/local/lib/python3.6/dist-packages (from sddk) (3.2.1)\n",
            "Requirement already satisfied: requests in /usr/local/lib/python3.6/dist-packages (from sddk) (2.23.0)\n",
            "Requirement already satisfied: six>=1.0.0 in /usr/local/lib/python3.6/dist-packages (from pyarrow->sddk) (1.12.0)\n",
            "Requirement already satisfied: python-dateutil>=2.6.1 in /usr/local/lib/python3.6/dist-packages (from pandas->sddk) (2.8.1)\n",
            "Requirement already satisfied: pytz>=2017.2 in /usr/local/lib/python3.6/dist-packages (from pandas->sddk) (2018.9)\n",
            "Requirement already satisfied: kiwisolver>=1.0.1 in /usr/local/lib/python3.6/dist-packages (from matplotlib->sddk) (1.2.0)\n",
            "Requirement already satisfied: cycler>=0.10 in /usr/local/lib/python3.6/dist-packages (from matplotlib->sddk) (0.10.0)\n",
            "Requirement already satisfied: pyparsing!=2.0.4,!=2.1.2,!=2.1.6,>=2.0.1 in /usr/local/lib/python3.6/dist-packages (from matplotlib->sddk) (2.4.7)\n",
            "Requirement already satisfied: certifi>=2017.4.17 in /usr/local/lib/python3.6/dist-packages (from requests->sddk) (2020.4.5.1)\n",
            "Requirement already satisfied: idna<3,>=2.5 in /usr/local/lib/python3.6/dist-packages (from requests->sddk) (2.9)\n",
            "Requirement already satisfied: urllib3!=1.25.0,!=1.25.1,<1.26,>=1.21.1 in /usr/local/lib/python3.6/dist-packages (from requests->sddk) (1.24.3)\n",
            "Requirement already satisfied: chardet<4,>=3.0.2 in /usr/local/lib/python3.6/dist-packages (from requests->sddk) (3.0.4)\n"
          ],
          "name": "stdout"
        }
      ]
    },
    {
      "cell_type": "code",
      "metadata": {
        "id": "S5cTTsMi49pX",
        "colab_type": "code",
        "colab": {
          "base_uri": "https://localhost:8080/",
          "height": 85
        },
        "outputId": "1ecbec10-935c-4f95-ef0e-8cf88aa78516"
      },
      "source": [
        "conf = sddk.configure(\"SDAM_root\", \"648597@au.dk\")"
      ],
      "execution_count": 5,
      "outputs": [
        {
          "output_type": "stream",
          "text": [
            "sciencedata.dk username (format '123456@au.dk'): 648597@au.dk\n",
            "sciencedata.dk password: ··········\n",
            "connection with shared folder established with you as its owner\n",
            "endpoint variable has been configured to: https://sciencedata.dk/files/SDAM_root/\n"
          ],
          "name": "stdout"
        }
      ]
    },
    {
      "cell_type": "markdown",
      "metadata": {
        "id": "3fyJ5DLoRenO",
        "colab_type": "text"
      },
      "source": [
        "Now let's define two crucial functions:\n",
        "The first produces a new column in our dataframe, which contain random numbers within a range of specified start and stop date columns, following the trapezoidal distribution.\n",
        "\n",
        "The second function then approach this column and extract values from it"
      ]
    },
    {
      "cell_type": "code",
      "metadata": {
        "id": "NM3zO1ajRXDj",
        "colab_type": "code",
        "colab": {}
      },
      "source": [
        "def model_date(start, stop, size=1):\n",
        "  try:\n",
        "    return dist_range(int(start), int(stop), size=size)\n",
        "  except:\n",
        "    return None\n",
        "\n",
        "def get_number(row, n):\n",
        "  try:\n",
        "    return row[\"randoms\"][n]\n",
        "  except:\n",
        "    return None"
      ],
      "execution_count": 0,
      "outputs": []
    },
    {
      "cell_type": "markdown",
      "metadata": {
        "id": "kQtdFZHwQYum",
        "colab_type": "text"
      },
      "source": [
        "## a) Test with mounds"
      ]
    },
    {
      "cell_type": "code",
      "metadata": {
        "id": "8QyO9tieQfD3",
        "colab_type": "code",
        "colab": {}
      },
      "source": [
        "AOR_df = sddk.read_file(\"SDAM_data/mounds/AOR_df.json\", \"df\", conf)\n",
        "Izvestia_df = sddk.read_file(\"SDAM_data/mounds/Izvestia_df.json\", \"df\", conf)"
      ],
      "execution_count": 0,
      "outputs": []
    },
    {
      "cell_type": "code",
      "metadata": {
        "id": "OeV7_jYYSGA6",
        "colab_type": "code",
        "colab": {
          "base_uri": "https://localhost:8080/",
          "height": 666
        },
        "outputId": "abb61b74-71f9-4969-fcfb-4e906646862d"
      },
      "source": [
        "AOR_df.head(5)"
      ],
      "execution_count": 103,
      "outputs": [
        {
          "output_type": "execute_result",
          "data": {
            "text/html": [
              "<div>\n",
              "<style scoped>\n",
              "    .dataframe tbody tr th:only-of-type {\n",
              "        vertical-align: middle;\n",
              "    }\n",
              "\n",
              "    .dataframe tbody tr th {\n",
              "        vertical-align: top;\n",
              "    }\n",
              "\n",
              "    .dataframe thead th {\n",
              "        text-align: right;\n",
              "    }\n",
              "</style>\n",
              "<table border=\"1\" class=\"dataframe\">\n",
              "  <thead>\n",
              "    <tr style=\"text-align: right;\">\n",
              "      <th></th>\n",
              "      <th>MoundID</th>\n",
              "      <th>Municipality</th>\n",
              "      <th>Region</th>\n",
              "      <th>Lat</th>\n",
              "      <th>Long</th>\n",
              "      <th>Error radius(m)</th>\n",
              "      <th>LU_Around</th>\n",
              "      <th>MoundCover</th>\n",
              "      <th>Geomorphology</th>\n",
              "      <th>Prominence</th>\n",
              "      <th>MoundName</th>\n",
              "      <th>HeightMax</th>\n",
              "      <th>HeightMin</th>\n",
              "      <th>DiameterMax</th>\n",
              "      <th>DiameterMin</th>\n",
              "      <th>GT</th>\n",
              "      <th>RT</th>\n",
              "      <th>Condition</th>\n",
              "      <th>Source of Impact</th>\n",
              "      <th>NumberOfBurialsInside</th>\n",
              "      <th>FirstStartDate</th>\n",
              "      <th>FirstEndDate</th>\n",
              "      <th>MaxEndDate</th>\n",
              "      <th>FirstChronologyRating</th>\n",
              "      <th>FirstEnclosureType</th>\n",
              "      <th>Graves</th>\n",
              "      <th>FirstBurialNumber</th>\n",
              "      <th>GraveRankSymbols</th>\n",
              "      <th>AllDates</th>\n",
              "      <th>TotalBurialNumber</th>\n",
              "      <th>BurialAttributesAggr</th>\n",
              "    </tr>\n",
              "  </thead>\n",
              "  <tbody>\n",
              "    <tr>\n",
              "      <th>0</th>\n",
              "      <td>1107</td>\n",
              "      <td>Sliven</td>\n",
              "      <td>Sliven</td>\n",
              "      <td>42.491623</td>\n",
              "      <td>26.269778</td>\n",
              "      <td>0</td>\n",
              "      <td>Annual agriculture</td>\n",
              "      <td>No data</td>\n",
              "      <td>hillside</td>\n",
              "      <td>somewhat prominent (on a plateau, slope or spu...</td>\n",
              "      <td>no name</td>\n",
              "      <td>5.6</td>\n",
              "      <td>1.6</td>\n",
              "      <td>36</td>\n",
              "      <td>34</td>\n",
              "      <td></td>\n",
              "      <td>Y</td>\n",
              "      <td>2 - partially damaged (type of damage is descr...</td>\n",
              "      <td>looting</td>\n",
              "      <td>10</td>\n",
              "      <td>0.0</td>\n",
              "      <td>100.0</td>\n",
              "      <td>400.0</td>\n",
              "      <td>2 - specialist consulted on a single item</td>\n",
              "      <td></td>\n",
              "      <td>10</td>\n",
              "      <td>1</td>\n",
              "      <td>[0, 1]</td>\n",
              "      <td>[[0.0, 100.0], [0.0, 100.0], [0.0, 100.0], [0....</td>\n",
              "      <td>10.0</td>\n",
              "      <td>{'0': {'index': 743, 'MoundID': 1107, 'Name': ...</td>\n",
              "    </tr>\n",
              "    <tr>\n",
              "      <th>1</th>\n",
              "      <td>1179</td>\n",
              "      <td>Belitsa</td>\n",
              "      <td>Blagoevgrad</td>\n",
              "      <td>41.935714</td>\n",
              "      <td>23.573565</td>\n",
              "      <td>0</td>\n",
              "      <td>Pasture (grassland)</td>\n",
              "      <td>Pasture (grassland)</td>\n",
              "      <td>on the ridge</td>\n",
              "      <td>very (on an outcrop or peak)</td>\n",
              "      <td>Mogilata sas sarkofaga</td>\n",
              "      <td>7</td>\n",
              "      <td></td>\n",
              "      <td>30</td>\n",
              "      <td></td>\n",
              "      <td></td>\n",
              "      <td>N</td>\n",
              "      <td>1 - pristine, (only superficial or minor damag...</td>\n",
              "      <td></td>\n",
              "      <td>1</td>\n",
              "      <td>-400.0</td>\n",
              "      <td>-300.0</td>\n",
              "      <td>-300.0</td>\n",
              "      <td>2 - specialist consulted on a single item</td>\n",
              "      <td>Cist grave</td>\n",
              "      <td>1</td>\n",
              "      <td>1</td>\n",
              "      <td>[2]</td>\n",
              "      <td>[[-400.0, -300.0]]</td>\n",
              "      <td>1.0</td>\n",
              "      <td>{'0': {'index': 1190, 'MoundID': 1179, 'Name':...</td>\n",
              "    </tr>\n",
              "    <tr>\n",
              "      <th>2</th>\n",
              "      <td>1392</td>\n",
              "      <td>Belitsa</td>\n",
              "      <td>Blagoevgrad</td>\n",
              "      <td>41.919751</td>\n",
              "      <td>23.572341</td>\n",
              "      <td>0</td>\n",
              "      <td>No data</td>\n",
              "      <td>No data</td>\n",
              "      <td>on the ridge</td>\n",
              "      <td>somewhat prominent (on a plateau, slope or spu...</td>\n",
              "      <td>Golyamata mogila</td>\n",
              "      <td>4</td>\n",
              "      <td></td>\n",
              "      <td>30</td>\n",
              "      <td>25</td>\n",
              "      <td></td>\n",
              "      <td>N</td>\n",
              "      <td>1 - pristine, (only superficial or minor damag...</td>\n",
              "      <td></td>\n",
              "      <td>1</td>\n",
              "      <td>NaN</td>\n",
              "      <td>NaN</td>\n",
              "      <td>NaN</td>\n",
              "      <td>0 - no chronology</td>\n",
              "      <td>Simple pit</td>\n",
              "      <td>1</td>\n",
              "      <td>1</td>\n",
              "      <td>[0]</td>\n",
              "      <td>[[None, None]]</td>\n",
              "      <td>1.0</td>\n",
              "      <td>{'0': {'index': 1992, 'MoundID': 1392, 'Name':...</td>\n",
              "    </tr>\n",
              "    <tr>\n",
              "      <th>3</th>\n",
              "      <td>1393</td>\n",
              "      <td>Blagoevgrad</td>\n",
              "      <td>Blagoevgrad</td>\n",
              "      <td>41.976922</td>\n",
              "      <td>23.093051</td>\n",
              "      <td>100</td>\n",
              "      <td>Scrub</td>\n",
              "      <td>No data</td>\n",
              "      <td>hilltop</td>\n",
              "      <td>very (on an outcrop or peak)</td>\n",
              "      <td>Kaymenska chuka</td>\n",
              "      <td></td>\n",
              "      <td></td>\n",
              "      <td></td>\n",
              "      <td></td>\n",
              "      <td></td>\n",
              "      <td>Y</td>\n",
              "      <td>2 - partially damaged (type of damage is descr...</td>\n",
              "      <td>looting</td>\n",
              "      <td>4</td>\n",
              "      <td>200.0</td>\n",
              "      <td>300.0</td>\n",
              "      <td>300.0</td>\n",
              "      <td>1 - rough estimate by author on basis of the a...</td>\n",
              "      <td>Tiled grave</td>\n",
              "      <td>4</td>\n",
              "      <td>1</td>\n",
              "      <td>[0]</td>\n",
              "      <td>[[200.0, 300.0], [200.0, 300.0], [200.0, 300.0...</td>\n",
              "      <td>4.0</td>\n",
              "      <td>{'0': {'index': 1993, 'MoundID': 1393, 'Name':...</td>\n",
              "    </tr>\n",
              "    <tr>\n",
              "      <th>4</th>\n",
              "      <td>1012</td>\n",
              "      <td>Primorsko</td>\n",
              "      <td>Burgas</td>\n",
              "      <td>42.277825</td>\n",
              "      <td>27.726949</td>\n",
              "      <td>200</td>\n",
              "      <td>Forest</td>\n",
              "      <td>Forest</td>\n",
              "      <td>valley bottom, or flat ground</td>\n",
              "      <td>not prominent (in a valley, plain or depression)</td>\n",
              "      <td>Chenger 1</td>\n",
              "      <td>3.25</td>\n",
              "      <td>2.98</td>\n",
              "      <td>28.6</td>\n",
              "      <td>26.8</td>\n",
              "      <td></td>\n",
              "      <td>N</td>\n",
              "      <td>1 - pristine, (only superficial or minor damag...</td>\n",
              "      <td></td>\n",
              "      <td>2</td>\n",
              "      <td>-400.0</td>\n",
              "      <td>-200.0</td>\n",
              "      <td>-200.0</td>\n",
              "      <td>1 - rough estimate by author on basis of the a...</td>\n",
              "      <td>Simple pit</td>\n",
              "      <td>2</td>\n",
              "      <td>1</td>\n",
              "      <td>[2, 1]</td>\n",
              "      <td>[[-400.0, -200.0], [None, None]]</td>\n",
              "      <td>2.0</td>\n",
              "      <td>{'0': {'index': 120, 'MoundID': 1012, 'Name': ...</td>\n",
              "    </tr>\n",
              "  </tbody>\n",
              "</table>\n",
              "</div>"
            ],
            "text/plain": [
              "   MoundID  ...                               BurialAttributesAggr\n",
              "0     1107  ...  {'0': {'index': 743, 'MoundID': 1107, 'Name': ...\n",
              "1     1179  ...  {'0': {'index': 1190, 'MoundID': 1179, 'Name':...\n",
              "2     1392  ...  {'0': {'index': 1992, 'MoundID': 1392, 'Name':...\n",
              "3     1393  ...  {'0': {'index': 1993, 'MoundID': 1393, 'Name':...\n",
              "4     1012  ...  {'0': {'index': 120, 'MoundID': 1012, 'Name': ...\n",
              "\n",
              "[5 rows x 31 columns]"
            ]
          },
          "metadata": {
            "tags": []
          },
          "execution_count": 103
        }
      ]
    },
    {
      "cell_type": "code",
      "metadata": {
        "id": "xMrNU0rQQfVO",
        "colab_type": "code",
        "colab": {}
      },
      "source": [
        "AOR_df[\"randoms\"] = AOR_df.apply(lambda row: model_date(row[\"FirstStartDate\"], row[\"FirstEndDate\"], size=1000), axis=1)\n",
        "Izvestia_df[\"randoms\"] = Izvestia_df.apply(lambda row: model_date(row[\"FirstStartDate\"], row[\"FirstEndDate\"], size=1000), axis=1)"
      ],
      "execution_count": 0,
      "outputs": []
    },
    {
      "cell_type": "code",
      "metadata": {
        "id": "BHSl8H1tSuGf",
        "colab_type": "code",
        "colab": {
          "base_uri": "https://localhost:8080/",
          "height": 34
        },
        "outputId": "98fd4a5d-e080-400a-b147-c66b19106f0a"
      },
      "source": [
        "AOR_df[\"FirstStartDate\"].min()"
      ],
      "execution_count": 117,
      "outputs": [
        {
          "output_type": "execute_result",
          "data": {
            "text/plain": [
              "-3500.0"
            ]
          },
          "metadata": {
            "tags": []
          },
          "execution_count": 117
        }
      ]
    },
    {
      "cell_type": "code",
      "metadata": {
        "id": "TVAzaJi6S0eQ",
        "colab_type": "code",
        "colab": {
          "base_uri": "https://localhost:8080/",
          "height": 34
        },
        "outputId": "6bfd71fd-ceb5-4811-eaef-96a7084b8395"
      },
      "source": [
        "AOR_df[\"FirstEndDate\"].max()"
      ],
      "execution_count": 118,
      "outputs": [
        {
          "output_type": "execute_result",
          "data": {
            "text/plain": [
              "1850.0"
            ]
          },
          "metadata": {
            "tags": []
          },
          "execution_count": 118
        }
      ]
    },
    {
      "cell_type": "code",
      "metadata": {
        "id": "FEfWAmRySr32",
        "colab_type": "code",
        "colab": {
          "base_uri": "https://localhost:8080/",
          "height": 265
        },
        "outputId": "b6249a34-4b7d-4804-bd90-5c6a01e937ef"
      },
      "source": [
        "step = 100\n",
        "bin_ranges=[n for n in range(-3500, 1500 + step, step)]\n",
        "for n in range(len(AOR_df.iloc[0][\"randoms\"])): # for each number in lenght of our random numbers\n",
        "  dates_variant = AOR_df.apply(lambda row: get_number(row, n), axis=1)\n",
        "  plt.hist(dates_variant, bins=bin_ranges, histtype='step', stacked=True, fill=False)\n",
        "  plt.xlim(-3500, 1500)"
      ],
      "execution_count": 125,
      "outputs": [
        {
          "output_type": "display_data",
          "data": {
            "image/png": "[encoded data removed]",
            "text/plain": [
              "<Figure size 432x288 with 1 Axes>"
            ]
          },
          "metadata": {
            "tags": [],
            "needs_background": "light"
          }
        }
      ]
    },
    {
      "cell_type": "code",
      "metadata": {
        "id": "nCy8y51FUDzO",
        "colab_type": "code",
        "colab": {
          "base_uri": "https://localhost:8080/",
          "height": 265
        },
        "outputId": "5fd2aa0d-cf6e-4f6b-ee39-802734b57425"
      },
      "source": [
        "step = 100\n",
        "bin_ranges=[n for n in range(-3500, 1500 + step, step)]\n",
        "for n in range(len(AOR_df.iloc[0][\"randoms\"])): # for each number in lenght of our random numbers\n",
        "  dates_variant = AOR_df.apply(lambda row: get_number(row, n), axis=1)\n",
        "  plt.hist(dates_variant, bins=bin_ranges, histtype='step', stacked=True, fill=False)\n",
        "  plt.xlim(-1500, 500)"
      ],
      "execution_count": 129,
      "outputs": [
        {
          "output_type": "display_data",
          "data": {
            "image/png": "[encoded data removed]",
            "text/plain": [
              "<Figure size 432x288 with 1 Axes>"
            ]
          },
          "metadata": {
            "tags": [],
            "needs_background": "light"
          }
        }
      ]
    },
    {
      "cell_type": "code",
      "metadata": {
        "id": "uXMdBI5RY4pj",
        "colab_type": "code",
        "colab": {
          "base_uri": "https://localhost:8080/",
          "height": 265
        },
        "outputId": "0a5084e5-eb44-4d5c-b6fb-1dff50c9e27e"
      },
      "source": [
        "bin_ranges=[n for n in range(-1500, 500 + step, step)]\n",
        "for n in range(len(AOR_df.iloc[0][\"randoms\"])): # for each number in lenght of our random numbers\n",
        "  dates_variant = AOR_df.apply(lambda row: get_number(row, n), axis=1)\n",
        "  sns.distplot(dates_variant, hist=False)\n",
        "  plt.xlim(-1500, 500)"
      ],
      "execution_count": 131,
      "outputs": [
        {
          "output_type": "display_data",
          "data": {
            "image/png": "[encoded data removed]",
            "text/plain": [
              "<Figure size 432x288 with 1 Axes>"
            ]
          },
          "metadata": {
            "tags": [],
            "needs_background": "light"
          }
        }
      ]
    },
    {
      "cell_type": "code",
      "metadata": {
        "id": "O3vtW9jrTNsf",
        "colab_type": "code",
        "colab": {
          "base_uri": "https://localhost:8080/",
          "height": 265
        },
        "outputId": "2c27ab1d-c0dc-4b0c-af2a-c701a3d47ab1"
      },
      "source": [
        "bin_ranges=[n for n in range(-1500, 500 + step, step)]\n",
        "for n in range(len(Izvestia_df.iloc[0][\"randoms\"])): # for each number in lenght of our random numbers\n",
        "  dates_variant = Izvestia_df.apply(lambda row: get_number(row, n), axis=1)\n",
        "  plt.hist(dates_variant, bins=bin_ranges, histtype='step', stacked=True, fill=False)\n",
        "  plt.xlim(-1500, 500)"
      ],
      "execution_count": 128,
      "outputs": [
        {
          "output_type": "display_data",
          "data": {
            "image/png": "[encoded data removed]",
            "text/plain": [
              "<Figure size 432x288 with 1 Axes>"
            ]
          },
          "metadata": {
            "tags": [],
            "needs_background": "light"
          }
        }
      ]
    },
    {
      "cell_type": "code",
      "metadata": {
        "id": "ppikU2cxX6qO",
        "colab_type": "code",
        "colab": {
          "base_uri": "https://localhost:8080/",
          "height": 265
        },
        "outputId": "b4f9df52-ccc8-4794-e76e-6b8016a625ca"
      },
      "source": [
        "bin_ranges=[n for n in range(-1500, 500 + step, step)]\n",
        "for n in range(len(Izvestia_df.iloc[0][\"randoms\"])): # for each number in lenght of our random numbers\n",
        "  dates_variant = Izvestia_df.apply(lambda row: get_number(row, n), axis=1)\n",
        "  sns.distplot(dates_variant, hist=False)\n",
        "  plt.xlim(-1500, 500)"
      ],
      "execution_count": 130,
      "outputs": [
        {
          "output_type": "display_data",
          "data": {
            "image/png": "[encoded data removed]",
            "text/plain": [
              "<Figure size 432x288 with 1 Axes>"
            ]
          },
          "metadata": {
            "tags": [],
            "needs_background": "light"
          }
        }
      ]
    },
    {
      "cell_type": "markdown",
      "metadata": {
        "id": "0erKjXA1QTZx",
        "colab_type": "text"
      },
      "source": [
        "## b) Test with EDH"
      ]
    },
    {
      "cell_type": "code",
      "metadata": {
        "id": "xMz0c9YQdMiH",
        "colab_type": "code",
        "colab": {}
      },
      "source": [
        "# read the EDH dataset from sciencedata.dk\n",
        "EDH = sddk.read_file(\"SDAM_data/EDH/EDH_cleaned.json\", \"df\", conf)"
      ],
      "execution_count": 0,
      "outputs": []
    },
    {
      "cell_type": "code",
      "metadata": {
        "id": "nfEXC2vHhaVD",
        "colab_type": "code",
        "colab": {}
      },
      "source": [
        "def lists_to_values(list_or_value):\n",
        "  if isinstance(list_or_value, list):\n",
        "    value = list_or_value[0]\n",
        "  else: \n",
        "    value = list_or_value\n",
        "  return value\n",
        "for column in EDH.columns:\n",
        "  EDH[column] = EDH.apply(lambda row: lists_to_values(row[column]), axis=1)"
      ],
      "execution_count": 0,
      "outputs": []
    },
    {
      "cell_type": "code",
      "metadata": {
        "id": "tNA21yB6hx1g",
        "colab_type": "code",
        "colab": {
          "base_uri": "https://localhost:8080/",
          "height": 547
        },
        "outputId": "cb93727d-e982-4774-9a1d-830d7069276f"
      },
      "source": [
        "EDH.head(5)"
      ],
      "execution_count": 8,
      "outputs": [
        {
          "output_type": "execute_result",
          "data": {
            "text/html": [
              "<div>\n",
              "<style scoped>\n",
              "    .dataframe tbody tr th:only-of-type {\n",
              "        vertical-align: middle;\n",
              "    }\n",
              "\n",
              "    .dataframe tbody tr th {\n",
              "        vertical-align: top;\n",
              "    }\n",
              "\n",
              "    .dataframe thead th {\n",
              "        text-align: right;\n",
              "    }\n",
              "</style>\n",
              "<table border=\"1\" class=\"dataframe\">\n",
              "  <thead>\n",
              "    <tr style=\"text-align: right;\">\n",
              "      <th></th>\n",
              "      <th>diplomatic_text</th>\n",
              "      <th>literature</th>\n",
              "      <th>trismegistos_uri</th>\n",
              "      <th>id</th>\n",
              "      <th>findspot_ancient</th>\n",
              "      <th>not_before</th>\n",
              "      <th>type_of_inscription</th>\n",
              "      <th>work_status</th>\n",
              "      <th>edh_geography_uri</th>\n",
              "      <th>not_after</th>\n",
              "      <th>country</th>\n",
              "      <th>province_label</th>\n",
              "      <th>transcription</th>\n",
              "      <th>material</th>\n",
              "      <th>height</th>\n",
              "      <th>width</th>\n",
              "      <th>findspot_modern</th>\n",
              "      <th>depth</th>\n",
              "      <th>commentary</th>\n",
              "      <th>uri</th>\n",
              "      <th>responsible_individual</th>\n",
              "      <th>last_update</th>\n",
              "      <th>language</th>\n",
              "      <th>modern_region</th>\n",
              "      <th>letter_size</th>\n",
              "      <th>type_of_monument</th>\n",
              "      <th>people</th>\n",
              "      <th>year_of_find</th>\n",
              "      <th>findspot</th>\n",
              "      <th>present_location</th>\n",
              "      <th>external_image_uris</th>\n",
              "      <th>religion</th>\n",
              "      <th>fotos</th>\n",
              "      <th>geography</th>\n",
              "      <th>military</th>\n",
              "      <th>social_economic_legal_history</th>\n",
              "      <th>coordinates</th>\n",
              "      <th>text_cleaned</th>\n",
              "      <th>origdate_text</th>\n",
              "      <th>objecttype</th>\n",
              "      <th>province_label_clean</th>\n",
              "      <th>province_label_certainty</th>\n",
              "      <th>type_of_inscription_clean</th>\n",
              "      <th>type_of_inscription_certainty</th>\n",
              "      <th>material_clean</th>\n",
              "      <th>height_cm</th>\n",
              "      <th>width_cm</th>\n",
              "      <th>depth_cm</th>\n",
              "      <th>type_of_monument_clean</th>\n",
              "      <th>type_of_monument_certainty</th>\n",
              "      <th>findspot_ancient_clean</th>\n",
              "      <th>findspot_ancient_certainty</th>\n",
              "      <th>clean_text_conservative</th>\n",
              "      <th>clean_text_interpretive_word</th>\n",
              "      <th>clean_text_interpretive_sentence</th>\n",
              "    </tr>\n",
              "  </thead>\n",
              "  <tbody>\n",
              "    <tr>\n",
              "      <th>0</th>\n",
              "      <td>D M / NONIAE P F OPTATAE / ET C IVLIO ARTEMONI...</td>\n",
              "      <td>AE 1983, 0192.; M. Annecchino, Puteoli 4/5, 19...</td>\n",
              "      <td>https://www.trismegistos.org/text/251193</td>\n",
              "      <td>HD000001</td>\n",
              "      <td>Cumae, bei</td>\n",
              "      <td>0071</td>\n",
              "      <td>epitaph</td>\n",
              "      <td>provisional</td>\n",
              "      <td>https://edh-www.adw.uni-heidelberg.de/edh/geog...</td>\n",
              "      <td>0130</td>\n",
              "      <td>Italy</td>\n",
              "      <td>Latium et Campania (Regio I)</td>\n",
              "      <td>D(is) M(anibus) / Noniae P(ubli) f(iliae) Opta...</td>\n",
              "      <td>Marmor, geädert / farbig</td>\n",
              "      <td>33 cm</td>\n",
              "      <td>34 cm</td>\n",
              "      <td>Cuma, bei</td>\n",
              "      <td>2.7 cm</td>\n",
              "      <td>(C): 2. Hälfte 1. - Anfang 2. Jh. - AE; Ende ...</td>\n",
              "      <td>https://edh-www.adw.uni-heidelberg.de/edh/insc...</td>\n",
              "      <td>Feraudi</td>\n",
              "      <td>2014-04-07</td>\n",
              "      <td>Latin</td>\n",
              "      <td>Campania</td>\n",
              "      <td>3.2-2 cm</td>\n",
              "      <td>tabula</td>\n",
              "      <td>{'cognomen': 'Optata', 'person_id': '1', 'gend...</td>\n",
              "      <td>{}</td>\n",
              "      <td>{}</td>\n",
              "      <td>{}</td>\n",
              "      <td>{}</td>\n",
              "      <td>{}</td>\n",
              "      <td>{}</td>\n",
              "      <td>{}</td>\n",
              "      <td>{}</td>\n",
              "      <td>{}</td>\n",
              "      <td>40.8471577,14.0550756</td>\n",
              "      <td>Dis Manibus Noniae Publi filiae Optatae et Cai...</td>\n",
              "      <td>71 AD – 130 AD</td>\n",
              "      <td>Tafel</td>\n",
              "      <td>Latium et Campania (Regio I)</td>\n",
              "      <td>Certain</td>\n",
              "      <td>epitaph</td>\n",
              "      <td>Certain</td>\n",
              "      <td>Marble</td>\n",
              "      <td>33.0</td>\n",
              "      <td>34.0</td>\n",
              "      <td>2.7</td>\n",
              "      <td>tabula</td>\n",
              "      <td>Certain</td>\n",
              "      <td>Cumae</td>\n",
              "      <td>Estimated</td>\n",
              "      <td>D M Noniae P f Optatae et C Iulio Artemoni par...</td>\n",
              "      <td>Dis Manibus Noniae Publi filiae Optatae et Cai...</td>\n",
              "      <td>Dis Manibus Noniae Publi filiae Optatae et Cai...</td>\n",
              "    </tr>\n",
              "    <tr>\n",
              "      <th>1</th>\n",
              "      <td>C SEXTIVS PARIS / QVI VIXIT / ANNIS LXX</td>\n",
              "      <td>AE 1983, 0080. (A); A. Ferrua, RAL 36, 1981, 1...</td>\n",
              "      <td>https://www.trismegistos.org/text/265631</td>\n",
              "      <td>HD000002</td>\n",
              "      <td>Roma</td>\n",
              "      <td>0051</td>\n",
              "      <td>epitaph</td>\n",
              "      <td>no image</td>\n",
              "      <td>https://edh-www.adw.uni-heidelberg.de/edh/geog...</td>\n",
              "      <td>0200</td>\n",
              "      <td>Italy</td>\n",
              "      <td>Roma</td>\n",
              "      <td>C(aius) Sextius Paris / qui vixit / annis LXX</td>\n",
              "      <td>marble: rocks - metamorphic rocks</td>\n",
              "      <td>28 cm</td>\n",
              "      <td>85 cm</td>\n",
              "      <td>Roma</td>\n",
              "      <td>{}</td>\n",
              "      <td>AE 1983: Breite: 35 cm.</td>\n",
              "      <td>https://edh-www.adw.uni-heidelberg.de/edh/insc...</td>\n",
              "      <td>Feraudi</td>\n",
              "      <td>2014-04-07</td>\n",
              "      <td>Latin</td>\n",
              "      <td>Lazio</td>\n",
              "      <td>4 cm</td>\n",
              "      <td>tabula</td>\n",
              "      <td>{'age: years': '70', 'cognomen': 'Paris', 'gen...</td>\n",
              "      <td>1937</td>\n",
              "      <td>Via Nomentana, S. Alessandro, Kirche</td>\n",
              "      <td>{}</td>\n",
              "      <td>{}</td>\n",
              "      <td>{}</td>\n",
              "      <td>{}</td>\n",
              "      <td>{}</td>\n",
              "      <td>{}</td>\n",
              "      <td>{}</td>\n",
              "      <td>41.895466,12.482324</td>\n",
              "      <td>Caius Sextius Paris qui vixit annis LXX       ...</td>\n",
              "      <td>51 AD – 200 AD</td>\n",
              "      <td>Tafel</td>\n",
              "      <td>Roma</td>\n",
              "      <td>Certain</td>\n",
              "      <td>epitaph</td>\n",
              "      <td>Certain</td>\n",
              "      <td>Marble</td>\n",
              "      <td>28.0</td>\n",
              "      <td>85.0</td>\n",
              "      <td>NaN</td>\n",
              "      <td>tabula</td>\n",
              "      <td>Certain</td>\n",
              "      <td>Roma</td>\n",
              "      <td>Certain</td>\n",
              "      <td>C Sextius Paris qui vixit annis LXX</td>\n",
              "      <td>Caius Sextius Paris qui vixit annis LXX</td>\n",
              "      <td>Caius Sextius Paris qui vixit annis LXX</td>\n",
              "    </tr>\n",
              "    <tr>\n",
              "      <th>2</th>\n",
              "      <td>[ ]VMMIO [ ] / [ ]ISENNA[ ] / [ ] XV[ ] / [ ] / [</td>\n",
              "      <td>AE 1983, 0518. (B); J. González, ZPE 52, 1983,...</td>\n",
              "      <td>https://www.trismegistos.org/text/220675</td>\n",
              "      <td>HD000003</td>\n",
              "      <td>{}</td>\n",
              "      <td>0131</td>\n",
              "      <td>honorific inscription</td>\n",
              "      <td>provisional</td>\n",
              "      <td>https://edh-www.adw.uni-heidelberg.de/edh/geog...</td>\n",
              "      <td>0170</td>\n",
              "      <td>Spain</td>\n",
              "      <td>Baetica</td>\n",
              "      <td>[P(ublio) M]ummio [P(ubli) f(ilio)] / [Gal(eri...</td>\n",
              "      <td>marble: rocks - metamorphic rocks</td>\n",
              "      <td>(37) cm</td>\n",
              "      <td>(34) cm</td>\n",
              "      <td>Tomares</td>\n",
              "      <td>(12) cm</td>\n",
              "      <td>(B): [S]isenna ist falscher Kasus; folgende E...</td>\n",
              "      <td>https://edh-www.adw.uni-heidelberg.de/edh/insc...</td>\n",
              "      <td>Feraudi</td>\n",
              "      <td>2006-08-31</td>\n",
              "      <td>Latin</td>\n",
              "      <td>Sevilla</td>\n",
              "      <td>4.5-3 cm</td>\n",
              "      <td>statue base</td>\n",
              "      <td>{'nomen': 'Mummius+', 'cognomen': 'Sisenna+ Ru...</td>\n",
              "      <td>before 1975</td>\n",
              "      <td>{}</td>\n",
              "      <td>Sevilla, Privatbesitz</td>\n",
              "      <td>{}</td>\n",
              "      <td>{}</td>\n",
              "      <td>{}</td>\n",
              "      <td>{}</td>\n",
              "      <td>{}</td>\n",
              "      <td>{}</td>\n",
              "      <td>37.37281,-6.04589</td>\n",
              "      <td>Publio Mummio Publi filio Galeria Sisennae Rut...</td>\n",
              "      <td>131 AD – 170 AD</td>\n",
              "      <td>Statuenbasis</td>\n",
              "      <td>Baetica</td>\n",
              "      <td>Certain</td>\n",
              "      <td>honorific inscription</td>\n",
              "      <td>Certain</td>\n",
              "      <td>Marble</td>\n",
              "      <td>37.0</td>\n",
              "      <td>34.0</td>\n",
              "      <td>12.0</td>\n",
              "      <td>statue base</td>\n",
              "      <td>Certain</td>\n",
              "      <td>NULL</td>\n",
              "      <td>NULL</td>\n",
              "      <td>ummio isenna Xv</td>\n",
              "      <td>Publio Mummio Publi filio Galeria Sisennae Rut...</td>\n",
              "      <td>Publio Mummio Publi filio Galeria Sisennae Rut...</td>\n",
              "    </tr>\n",
              "    <tr>\n",
              "      <th>3</th>\n",
              "      <td>[ ]AVS[ ]LLA / M PORCI NIGRI SER / DOMINAE VEN...</td>\n",
              "      <td>AE 1983, 0533. (B); A.U. Stylow, Gerión 1, 198...</td>\n",
              "      <td>https://www.trismegistos.org/text/222102</td>\n",
              "      <td>HD000004</td>\n",
              "      <td>Ipolcobulcula</td>\n",
              "      <td>0151</td>\n",
              "      <td>votive inscription</td>\n",
              "      <td>checked with photo</td>\n",
              "      <td>https://edh-www.adw.uni-heidelberg.de/edh/geog...</td>\n",
              "      <td>0200</td>\n",
              "      <td>Spain</td>\n",
              "      <td>Baetica</td>\n",
              "      <td>[---?]AV(?)S(?)[---]L(?)L(?)A / M(arci) Porci ...</td>\n",
              "      <td>limestone: rocks - clastic sediments</td>\n",
              "      <td>(39) cm</td>\n",
              "      <td>27 cm</td>\n",
              "      <td>Carcabuey</td>\n",
              "      <td>18 cm</td>\n",
              "      <td>Material: lokaler grauer Kalkstein. (B): Styl...</td>\n",
              "      <td>https://edh-www.adw.uni-heidelberg.de/edh/insc...</td>\n",
              "      <td>Gräf</td>\n",
              "      <td>2015-03-27</td>\n",
              "      <td>Latin</td>\n",
              "      <td>Córdoba</td>\n",
              "      <td>2.5 cm</td>\n",
              "      <td>altar</td>\n",
              "      <td>{'cognomen': '[---]', 'status': 'slaves', 'per...</td>\n",
              "      <td>before 1979</td>\n",
              "      <td>{}</td>\n",
              "      <td>Carcabuey, Grupo Escolar</td>\n",
              "      <td>http://cil-old.bbaw.de/test06/bilder/datenbank...</td>\n",
              "      <td>names of pagan deities</td>\n",
              "      <td>{}</td>\n",
              "      <td>{}</td>\n",
              "      <td>{}</td>\n",
              "      <td>{}</td>\n",
              "      <td>37.4442,-4.27471</td>\n",
              "      <td>AVSLLA Marci Porci Nigri serva dominae Veneri ...</td>\n",
              "      <td>151 AD – 200 AD</td>\n",
              "      <td>Altar</td>\n",
              "      <td>Baetica</td>\n",
              "      <td>Certain</td>\n",
              "      <td>votive inscription</td>\n",
              "      <td>Certain</td>\n",
              "      <td>Limestone</td>\n",
              "      <td>39.0</td>\n",
              "      <td>27.0</td>\n",
              "      <td>18.0</td>\n",
              "      <td>altar</td>\n",
              "      <td>Certain</td>\n",
              "      <td>Ipolcobulcula</td>\n",
              "      <td>Certain</td>\n",
              "      <td>AVSLLA M Porci Nigri ser dominae Veneri aram p...</td>\n",
              "      <td>AVS LLA Marci Porci Nigri serva dominae Veneri...</td>\n",
              "      <td>AVS LLA Marci Porci Nigri serva dominae Veneri...</td>\n",
              "    </tr>\n",
              "    <tr>\n",
              "      <th>4</th>\n",
              "      <td>[ ] L SVCCESSVS / [ ] L L IRENAEVS / [ ] C L T...</td>\n",
              "      <td>AE 1983, 0078. (B); A. Ferrua, RAL 36, 1981, 1...</td>\n",
              "      <td>https://www.trismegistos.org/text/265629</td>\n",
              "      <td>HD000005</td>\n",
              "      <td>Roma</td>\n",
              "      <td>0001</td>\n",
              "      <td>epitaph</td>\n",
              "      <td>no image</td>\n",
              "      <td>https://edh-www.adw.uni-heidelberg.de/edh/geog...</td>\n",
              "      <td>0200</td>\n",
              "      <td>Italy</td>\n",
              "      <td>Roma</td>\n",
              "      <td>[---] l(ibertus) Successus / [---] L(uci) l(ib...</td>\n",
              "      <td>{}</td>\n",
              "      <td>{}</td>\n",
              "      <td>{}</td>\n",
              "      <td>Roma</td>\n",
              "      <td>{}</td>\n",
              "      <td>(B): Z. 3: C(ai) l(ibertae) Tyches.</td>\n",
              "      <td>https://edh-www.adw.uni-heidelberg.de/edh/insc...</td>\n",
              "      <td>Feraudi</td>\n",
              "      <td>2010-01-04</td>\n",
              "      <td>Latin</td>\n",
              "      <td>Lazio</td>\n",
              "      <td>{}</td>\n",
              "      <td>stele</td>\n",
              "      <td>{'status': 'freedmen / freedwomen', 'name': '[...</td>\n",
              "      <td>{}</td>\n",
              "      <td>Via Cupa (ehem. Vigna Nardi)</td>\n",
              "      <td>{}</td>\n",
              "      <td>{}</td>\n",
              "      <td>{}</td>\n",
              "      <td>{}</td>\n",
              "      <td>{}</td>\n",
              "      <td>{}</td>\n",
              "      <td>{}</td>\n",
              "      <td>41.895466,12.482324</td>\n",
              "      <td>libertus Successus  Luci libertus Irenaeus  C...</td>\n",
              "      <td>1 AD – 200 AD</td>\n",
              "      <td>Stele</td>\n",
              "      <td>Roma</td>\n",
              "      <td>Certain</td>\n",
              "      <td>epitaph</td>\n",
              "      <td>Certain</td>\n",
              "      <td>NA</td>\n",
              "      <td>NaN</td>\n",
              "      <td>NaN</td>\n",
              "      <td>NaN</td>\n",
              "      <td>stele</td>\n",
              "      <td>Certain</td>\n",
              "      <td>Roma</td>\n",
              "      <td>Certain</td>\n",
              "      <td>l Successus L l Irenaeus C l Tyches unt renti f</td>\n",
              "      <td>libertus Successus Luci libertus Irenaeus Cai ...</td>\n",
              "      <td>libertus Successus Luci libertus Irenaeus Cai ...</td>\n",
              "    </tr>\n",
              "  </tbody>\n",
              "</table>\n",
              "</div>"
            ],
            "text/plain": [
              "                                     diplomatic_text  ...                   clean_text_interpretive_sentence\n",
              "0  D M / NONIAE P F OPTATAE / ET C IVLIO ARTEMONI...  ...  Dis Manibus Noniae Publi filiae Optatae et Cai...\n",
              "1            C SEXTIVS PARIS / QVI VIXIT / ANNIS LXX  ...            Caius Sextius Paris qui vixit annis LXX\n",
              "2  [ ]VMMIO [ ] / [ ]ISENNA[ ] / [ ] XV[ ] / [ ] / [  ...  Publio Mummio Publi filio Galeria Sisennae Rut...\n",
              "3  [ ]AVS[ ]LLA / M PORCI NIGRI SER / DOMINAE VEN...  ...  AVS LLA Marci Porci Nigri serva dominae Veneri...\n",
              "4  [ ] L SVCCESSVS / [ ] L L IRENAEVS / [ ] C L T...  ...  libertus Successus Luci libertus Irenaeus Cai ...\n",
              "\n",
              "[5 rows x 55 columns]"
            ]
          },
          "metadata": {
            "tags": []
          },
          "execution_count": 8
        }
      ]
    },
    {
      "cell_type": "code",
      "metadata": {
        "id": "mBeEe3BDiRmH",
        "colab_type": "code",
        "colab": {}
      },
      "source": [
        "EDH[\"not_after\"] = pd.to_numeric(EDH[\"not_after\"])\n",
        "EDH[\"not_before\"] = pd.to_numeric(EDH[\"not_before\"])"
      ],
      "execution_count": 0,
      "outputs": []
    },
    {
      "cell_type": "code",
      "metadata": {
        "id": "5gfIgcEX7I6c",
        "colab_type": "code",
        "colab": {
          "base_uri": "https://localhost:8080/",
          "height": 34
        },
        "outputId": "c51079c2-fd88-4fc7-ac1a-75f14129bbbb"
      },
      "source": [
        "\n",
        "### how many of the inscriptions have at least one date\n",
        "EDH_dated = EDH[(EDH[\"not_before\"].notnull()) | (EDH[\"not_after\"].notnull())]\n",
        "len(EDH_dated)"
      ],
      "execution_count": 38,
      "outputs": [
        {
          "output_type": "execute_result",
          "data": {
            "text/plain": [
              "57782"
            ]
          },
          "metadata": {
            "tags": []
          },
          "execution_count": 38
        }
      ]
    },
    {
      "cell_type": "code",
      "metadata": {
        "id": "O98mIA3C6z1r",
        "colab_type": "code",
        "colab": {
          "base_uri": "https://localhost:8080/",
          "height": 34
        },
        "outputId": "f47f6c0c-e166-43ed-acd4-1926d49885e3"
      },
      "source": [
        "len(EDH_dated[EDH_dated[\"not_after\"].isnull()])"
      ],
      "execution_count": 45,
      "outputs": [
        {
          "output_type": "execute_result",
          "data": {
            "text/plain": [
              "3457"
            ]
          },
          "metadata": {
            "tags": []
          },
          "execution_count": 45
        }
      ]
    },
    {
      "cell_type": "code",
      "metadata": {
        "id": "iOzYoF3M9RGV",
        "colab_type": "code",
        "colab": {
          "base_uri": "https://localhost:8080/",
          "height": 119
        },
        "outputId": "fc2e3933-664a-4da0-89e5-8f2b7cc42997"
      },
      "source": [
        "EDH_dated[\"randoms\"] = EDH_dated.apply(lambda row: model_date(row[\"not_before\"], row[\"not_after\"]), axis=1)"
      ],
      "execution_count": 73,
      "outputs": [
        {
          "output_type": "stream",
          "text": [
            "/usr/local/lib/python3.6/dist-packages/ipykernel_launcher.py:6: SettingWithCopyWarning: \n",
            "A value is trying to be set on a copy of a slice from a DataFrame.\n",
            "Try using .loc[row_indexer,col_indexer] = value instead\n",
            "\n",
            "See the caveats in the documentation: https://pandas.pydata.org/pandas-docs/stable/user_guide/indexing.html#returning-a-view-versus-a-copy\n",
            "  \n"
          ],
          "name": "stderr"
        }
      ]
    },
    {
      "cell_type": "code",
      "metadata": {
        "id": "pmB7mnqMPNtL",
        "colab_type": "code",
        "colab": {
          "base_uri": "https://localhost:8080/",
          "height": 669
        },
        "outputId": "6d7beb82-718b-4a74-e759-81ffa6cbe74d"
      },
      "source": [
        "EDH_condensed = EDH_dated[[\"id\", \"not_before\", \"not_after\", \"randoms\"]]\n",
        "EDH_condensed.head(20)"
      ],
      "execution_count": 98,
      "outputs": [
        {
          "output_type": "execute_result",
          "data": {
            "text/html": [
              "<div>\n",
              "<style scoped>\n",
              "    .dataframe tbody tr th:only-of-type {\n",
              "        vertical-align: middle;\n",
              "    }\n",
              "\n",
              "    .dataframe tbody tr th {\n",
              "        vertical-align: top;\n",
              "    }\n",
              "\n",
              "    .dataframe thead th {\n",
              "        text-align: right;\n",
              "    }\n",
              "</style>\n",
              "<table border=\"1\" class=\"dataframe\">\n",
              "  <thead>\n",
              "    <tr style=\"text-align: right;\">\n",
              "      <th></th>\n",
              "      <th>id</th>\n",
              "      <th>not_before</th>\n",
              "      <th>not_after</th>\n",
              "      <th>randoms</th>\n",
              "    </tr>\n",
              "  </thead>\n",
              "  <tbody>\n",
              "    <tr>\n",
              "      <th>0</th>\n",
              "      <td>HD000001</td>\n",
              "      <td>71.0</td>\n",
              "      <td>130.0</td>\n",
              "      <td>[118, 113, 126, 113, 99, 99, 90, 91, 89, 124, ...</td>\n",
              "    </tr>\n",
              "    <tr>\n",
              "      <th>1</th>\n",
              "      <td>HD000002</td>\n",
              "      <td>51.0</td>\n",
              "      <td>200.0</td>\n",
              "      <td>[105, 142, 84, 65, 90, 105, 102, 165, 95, 148,...</td>\n",
              "    </tr>\n",
              "    <tr>\n",
              "      <th>2</th>\n",
              "      <td>HD000003</td>\n",
              "      <td>131.0</td>\n",
              "      <td>170.0</td>\n",
              "      <td>[157, 136, 135, 132, 151, 160, 145, 133, 146, ...</td>\n",
              "    </tr>\n",
              "    <tr>\n",
              "      <th>3</th>\n",
              "      <td>HD000004</td>\n",
              "      <td>151.0</td>\n",
              "      <td>200.0</td>\n",
              "      <td>[175, 172, 161, 164, 154, 181, 177, 165, 178, ...</td>\n",
              "    </tr>\n",
              "    <tr>\n",
              "      <th>4</th>\n",
              "      <td>HD000005</td>\n",
              "      <td>1.0</td>\n",
              "      <td>200.0</td>\n",
              "      <td>[155, 103, 182, 110, 20, 145, 180, 85, 118, 14...</td>\n",
              "    </tr>\n",
              "    <tr>\n",
              "      <th>5</th>\n",
              "      <td>HD000006</td>\n",
              "      <td>71.0</td>\n",
              "      <td>150.0</td>\n",
              "      <td>[134, 130, 142, 122, 107, 146, 80, 128, 99, 10...</td>\n",
              "    </tr>\n",
              "    <tr>\n",
              "      <th>6</th>\n",
              "      <td>HD000007</td>\n",
              "      <td>-100.0</td>\n",
              "      <td>-51.0</td>\n",
              "      <td>[-58, -91, -76, -59, -65, -61, -80, -66, -69, ...</td>\n",
              "    </tr>\n",
              "    <tr>\n",
              "      <th>7</th>\n",
              "      <td>HD000008</td>\n",
              "      <td>101.0</td>\n",
              "      <td>200.0</td>\n",
              "      <td>[154, 123, 117, 114, 162, 144, 165, 109, 161, ...</td>\n",
              "    </tr>\n",
              "    <tr>\n",
              "      <th>8</th>\n",
              "      <td>HD000009</td>\n",
              "      <td>201.0</td>\n",
              "      <td>300.0</td>\n",
              "      <td>[212, 244, 263, 288, 271, 211, 284, 276, 245, ...</td>\n",
              "    </tr>\n",
              "    <tr>\n",
              "      <th>9</th>\n",
              "      <td>HD000010</td>\n",
              "      <td>101.0</td>\n",
              "      <td>200.0</td>\n",
              "      <td>[180, 133, 156, 146, 197, 151, 126, 131, 170, ...</td>\n",
              "    </tr>\n",
              "    <tr>\n",
              "      <th>10</th>\n",
              "      <td>HD000011</td>\n",
              "      <td>54.0</td>\n",
              "      <td>68.0</td>\n",
              "      <td>[67, 66, 63, 66, 57, 66, 55, 64, 65, 63, 62, 6...</td>\n",
              "    </tr>\n",
              "    <tr>\n",
              "      <th>11</th>\n",
              "      <td>HD000012</td>\n",
              "      <td>301.0</td>\n",
              "      <td>400.0</td>\n",
              "      <td>[319, 351, 320, 378, 395, 364, 370, 312, 325, ...</td>\n",
              "    </tr>\n",
              "    <tr>\n",
              "      <th>12</th>\n",
              "      <td>HD000013</td>\n",
              "      <td>201.0</td>\n",
              "      <td>300.0</td>\n",
              "      <td>[241, 264, 237, 220, 266, 221, 293, 217, 229, ...</td>\n",
              "    </tr>\n",
              "    <tr>\n",
              "      <th>13</th>\n",
              "      <td>HD000014</td>\n",
              "      <td>68.0</td>\n",
              "      <td>96.0</td>\n",
              "      <td>[89, 73, 81, 76, 76, 95, 75, 76, 82, 69, 69, 7...</td>\n",
              "    </tr>\n",
              "    <tr>\n",
              "      <th>14</th>\n",
              "      <td>HD000015</td>\n",
              "      <td>1.0</td>\n",
              "      <td>300.0</td>\n",
              "      <td>[272, 268, 64, 258, 141, 70, 22, 33, 247, 145,...</td>\n",
              "    </tr>\n",
              "    <tr>\n",
              "      <th>15</th>\n",
              "      <td>HD000016</td>\n",
              "      <td>101.0</td>\n",
              "      <td>150.0</td>\n",
              "      <td>[116, 137, 117, 120, 124, 135, 130, 109, 126, ...</td>\n",
              "    </tr>\n",
              "    <tr>\n",
              "      <th>16</th>\n",
              "      <td>HD000017</td>\n",
              "      <td>-70.0</td>\n",
              "      <td>-1.0</td>\n",
              "      <td>[-27, -6, -53, -31, -19, -29, -9, -35, -12, -4...</td>\n",
              "    </tr>\n",
              "    <tr>\n",
              "      <th>17</th>\n",
              "      <td>HD000018</td>\n",
              "      <td>1.0</td>\n",
              "      <td>300.0</td>\n",
              "      <td>[110, 154, 189, 286, 114, 172, 48, 222, 100, 2...</td>\n",
              "    </tr>\n",
              "    <tr>\n",
              "      <th>18</th>\n",
              "      <td>HD000019</td>\n",
              "      <td>101.0</td>\n",
              "      <td>200.0</td>\n",
              "      <td>[175, 175, 156, 151, 170, 142, 137, 148, 147, ...</td>\n",
              "    </tr>\n",
              "    <tr>\n",
              "      <th>19</th>\n",
              "      <td>HD000020</td>\n",
              "      <td>-70.0</td>\n",
              "      <td>-1.0</td>\n",
              "      <td>[-20, -64, -41, -28, -39, -21, -37, -21, -29, ...</td>\n",
              "    </tr>\n",
              "  </tbody>\n",
              "</table>\n",
              "</div>"
            ],
            "text/plain": [
              "          id  ...                                            randoms\n",
              "0   HD000001  ...  [118, 113, 126, 113, 99, 99, 90, 91, 89, 124, ...\n",
              "1   HD000002  ...  [105, 142, 84, 65, 90, 105, 102, 165, 95, 148,...\n",
              "2   HD000003  ...  [157, 136, 135, 132, 151, 160, 145, 133, 146, ...\n",
              "3   HD000004  ...  [175, 172, 161, 164, 154, 181, 177, 165, 178, ...\n",
              "4   HD000005  ...  [155, 103, 182, 110, 20, 145, 180, 85, 118, 14...\n",
              "5   HD000006  ...  [134, 130, 142, 122, 107, 146, 80, 128, 99, 10...\n",
              "6   HD000007  ...  [-58, -91, -76, -59, -65, -61, -80, -66, -69, ...\n",
              "7   HD000008  ...  [154, 123, 117, 114, 162, 144, 165, 109, 161, ...\n",
              "8   HD000009  ...  [212, 244, 263, 288, 271, 211, 284, 276, 245, ...\n",
              "9   HD000010  ...  [180, 133, 156, 146, 197, 151, 126, 131, 170, ...\n",
              "10  HD000011  ...  [67, 66, 63, 66, 57, 66, 55, 64, 65, 63, 62, 6...\n",
              "11  HD000012  ...  [319, 351, 320, 378, 395, 364, 370, 312, 325, ...\n",
              "12  HD000013  ...  [241, 264, 237, 220, 266, 221, 293, 217, 229, ...\n",
              "13  HD000014  ...  [89, 73, 81, 76, 76, 95, 75, 76, 82, 69, 69, 7...\n",
              "14  HD000015  ...  [272, 268, 64, 258, 141, 70, 22, 33, 247, 145,...\n",
              "15  HD000016  ...  [116, 137, 117, 120, 124, 135, 130, 109, 126, ...\n",
              "16  HD000017  ...  [-27, -6, -53, -31, -19, -29, -9, -35, -12, -4...\n",
              "17  HD000018  ...  [110, 154, 189, 286, 114, 172, 48, 222, 100, 2...\n",
              "18  HD000019  ...  [175, 175, 156, 151, 170, 142, 137, 148, 147, ...\n",
              "19  HD000020  ...  [-20, -64, -41, -28, -39, -21, -37, -21, -29, ...\n",
              "\n",
              "[20 rows x 4 columns]"
            ]
          },
          "metadata": {
            "tags": []
          },
          "execution_count": 98
        }
      ]
    },
    {
      "cell_type": "code",
      "metadata": {
        "id": "kK5ZVXvlLrnC",
        "colab_type": "code",
        "colab": {
          "base_uri": "https://localhost:8080/",
          "height": 265
        },
        "outputId": "2704adfd-1090-489d-f86f-69f6048362e4"
      },
      "source": [
        "def get_number(row, n):\n",
        "  try:\n",
        "    return row[\"randoms\"][n]\n",
        "  except:\n",
        "    return None\n",
        "\n",
        "step = 25\n",
        "bin_ranges=[n for n in range(-100, 400 + step, step)]\n",
        "for n in range(len(EDH_dated.iloc[0][\"randoms\"])): # for each number in lenght of our random numbers\n",
        "  dates_variant = EDH_dated.apply(lambda row: get_number(row, n), axis=1)\n",
        "  plt.hist(dates_variant, bins=bin_ranges, histtype='step', stacked=True, fill=False)\n",
        "  plt.xlim(-100, 400)\n"
      ],
      "execution_count": 95,
      "outputs": [
        {
          "output_type": "display_data",
          "data": {
            "image/png": "[encoded data removed]",
            "text/plain": [
              "<Figure size 432x288 with 1 Axes>"
            ]
          },
          "metadata": {
            "tags": [],
            "needs_background": "light"
          }
        }
      ]
    },
    {
      "cell_type": "code",
      "metadata": {
        "id": "ft56sYSlt-Xi",
        "colab_type": "code",
        "colab": {
          "base_uri": "https://localhost:8080/",
          "height": 282
        },
        "outputId": "809ba009-ab4d-4246-8484-60ebd1c23205"
      },
      "source": [
        "for n in range(100):\n",
        "  dates_variant = EDH_condensed.apply(lambda row: get_number(row, n), axis=1)\n",
        "  sns.distplot(dates_variant, hist=False)\n",
        "plt.xlim(-100, 400)"
      ],
      "execution_count": 99,
      "outputs": [
        {
          "output_type": "execute_result",
          "data": {
            "text/plain": [
              "(-100.0, 400.0)"
            ]
          },
          "metadata": {
            "tags": []
          },
          "execution_count": 99
        },
        {
          "output_type": "display_data",
          "data": {
            "image/png": "[encoded data removed]",
            "text/plain": [
              "<Figure size 432x288 with 1 Axes>"
            ]
          },
          "metadata": {
            "tags": [],
            "needs_background": "light"
          }
        }
      ]
    },
    {
      "cell_type": "code",
      "metadata": {
        "id": "Fv-RKwJ55S60",
        "colab_type": "code",
        "colab": {}
      },
      "source": [
        ""
      ],
      "execution_count": 0,
      "outputs": []
    },
    {
      "cell_type": "code",
      "metadata": {
        "id": "IlD8-Nzt5dp8",
        "colab_type": "code",
        "colab": {}
      },
      "source": [
        ""
      ],
      "execution_count": 0,
      "outputs": []
    }
  ]
}